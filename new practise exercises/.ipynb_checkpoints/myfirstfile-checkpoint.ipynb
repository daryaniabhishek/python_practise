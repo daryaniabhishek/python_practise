{
 "cells": [
  {
   "cell_type": "code",
   "execution_count": 1,
   "metadata": {},
   "outputs": [
    {
     "name": "stdout",
     "output_type": "stream",
     "text": [
      "enter two numbers\n",
      "1 2\n",
      "x=1\n",
      "y=2\n",
      "the sum of 1 and 2 is 3\n"
     ]
    }
   ],
   "source": [
    "#Python program to add two numbers\n",
    "\n",
    "[x,y]=[int(x) for x in input(\"enter two numbers\\n\").split()]\n",
    "add=x+y\n",
    "print(f\"x={x}\\ny={y}\\nthe sum of {x} and {y} is {add}\")"
   ]
  },
  {
   "cell_type": "code",
   "execution_count": 2,
   "metadata": {},
   "outputs": [
    {
     "name": "stdout",
     "output_type": "stream",
     "text": [
      "enter the numbers you want to add1 2 3 4 5 6 7 8 9 10\n",
      "The number are  [1, 2, 3, 4, 5, 6, 7, 8, 9, 10]\n",
      "The sum of the number is 55\n"
     ]
    }
   ],
   "source": [
    "#Python program to add all numbers of list\n",
    "\n",
    "numbers= list(map(int,input(\"enter the numbers you want to add\").split()))\n",
    "print(\"The number are \",numbers)\n",
    "print(\"The sum of the number is\",sum(numbers))"
   ]
  },
  {
   "cell_type": "code",
   "execution_count": 6,
   "metadata": {},
   "outputs": [
    {
     "name": "stdout",
     "output_type": "stream",
     "text": [
      "enter the numbers you want to add1 2 3 4 5 6 7\n",
      "The numbers are [1.0, 2.0, 3.0, 4.0, 5.0, 6.0, 7.0]\n",
      "The sum of the numbers is 28.0\n",
      "The average of the numbers is 4.0\n"
     ]
    }
   ],
   "source": [
    "#Python program to get the average of all numbers of list\n",
    "sample_numbers= list(map(float,input(\"enter the numbers you want to add\").split()))\n",
    "averagenumber=(sum(sample_numbers)/len(sample_numbers))\n",
    "print(\"The numbers are {}\\nThe sum of the numbers is {}\\nThe average of the numbers is {}\".format(sample_numbers,sum(sample_numbers),averagenumber))"
   ]
  },
  {
   "cell_type": "code",
   "execution_count": 9,
   "metadata": {},
   "outputs": [
    {
     "data": {
      "text/plain": [
       "[1, 2, 3, 4, 5, 6, 7, 8, 9, 10]"
      ]
     },
     "execution_count": 9,
     "metadata": {},
     "output_type": "execute_result"
    }
   ],
   "source": [
    "globals()[\"numbers\"]"
   ]
  },
  {
   "cell_type": "code",
   "execution_count": 11,
   "metadata": {},
   "outputs": [
    {
     "data": {
      "text/plain": [
       "[1.0, 2.0, 3.0, 4.0, 5.0, 6.0, 7.0]"
      ]
     },
     "execution_count": 11,
     "metadata": {},
     "output_type": "execute_result"
    }
   ],
   "source": [
    "locals()[\"sample_numbers\"]"
   ]
  },
  {
   "cell_type": "code",
   "execution_count": null,
   "metadata": {},
   "outputs": [],
   "source": []
  }
 ],
 "metadata": {
  "kernelspec": {
   "display_name": "Python 3",
   "language": "python",
   "name": "python3"
  },
  "language_info": {
   "codemirror_mode": {
    "name": "ipython",
    "version": 3
   },
   "file_extension": ".py",
   "mimetype": "text/x-python",
   "name": "python",
   "nbconvert_exporter": "python",
   "pygments_lexer": "ipython3",
   "version": "3.7.1"
  }
 },
 "nbformat": 4,
 "nbformat_minor": 2
}
