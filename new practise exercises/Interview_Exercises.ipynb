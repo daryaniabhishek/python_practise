{
 "cells": [
  {
   "cell_type": "code",
   "execution_count": 26,
   "metadata": {},
   "outputs": [
    {
     "name": "stdout",
     "output_type": "stream",
     "text": [
      "enter a number100\n",
      "11 13 17 31 37 71 73 79 97 None\n"
     ]
    }
   ],
   "source": [
    "#printing a series of twisted primes until a value 'n'\n",
    "#Method:1\n",
    "\n",
    "def list_of_primes(num):\n",
    "    if num>1:\n",
    "        lst=[]\n",
    "        for i in range(2,num+1):\n",
    "            for j in range(2,i):\n",
    "                if (i%j==0):\n",
    "                    break\n",
    "            else:\n",
    "                lst.append(str(i))\n",
    "    return lst\n",
    "\n",
    "def twisted_primes(another_list):\n",
    "    for i in another_list:\n",
    "        if len(i)>1 and i[::-1] in another_list:\n",
    "            print(int(i),end=\" \")\n",
    "        \n",
    "user_input=int(input(\"enter a number\")) \n",
    "sample_list=list_of_primes(user_input)\n",
    "print(twisted_primes(sample_list))"
   ]
  },
  {
   "cell_type": "code",
   "execution_count": 17,
   "metadata": {},
   "outputs": [
    {
     "name": "stdout",
     "output_type": "stream",
     "text": [
      "enter a number200\n",
      "11 13 17 31 37 71 73 79 97 101 131 151 181 191 None\n"
     ]
    }
   ],
   "source": [
    "#printing a series of twisted primes until a value 'n'\n",
    "#Method:2\n",
    "\n",
    "def another_list_of_primes(num2):\n",
    "    if num2>1:\n",
    "        lst2=[]\n",
    "        for i in range(2,num2+1):\n",
    "            for j in range(2,i):\n",
    "                if (i%j==0):\n",
    "                    break\n",
    "            else:\n",
    "                lst2.append(i)\n",
    "    return lst2\n",
    "\n",
    "def reverse1(x):\n",
    "    \n",
    "    rev=0\n",
    "    while x>0:\n",
    "        r=x%10\n",
    "        rev=rev*10+r\n",
    "        x=x//10\n",
    "    return rev\n",
    "\n",
    "def twisted_primes2(list2):\n",
    "    for i in list2:\n",
    "        \n",
    "        if i>9 and reverse1(i) in list2:\n",
    "            print(i,end=\" \")\n",
    "give_input=int(input(\"enter a number\"))\n",
    "list2_value=another_list_of_primes(give_input)\n",
    "print(twisted_primes2(list2_value))"
   ]
  },
  {
   "cell_type": "code",
   "execution_count": 26,
   "metadata": {},
   "outputs": [
    {
     "name": "stdout",
     "output_type": "stream",
     "text": [
      "2 3 5 7 11 13 17 31 37 71 73 79 97 101 107 113 131 149 151 157 167 179 181 191 199 None\n"
     ]
    }
   ],
   "source": [
    "#printing a series of twisted primes until a value 'n'\n",
    "#Method:3\n",
    "\n",
    "def check_prime(num):\n",
    "    if num>1:\n",
    "        for i in range(2,num):\n",
    "            if num%i==0:\n",
    "                return False\n",
    "                break\n",
    "        else:\n",
    "            return True\n",
    "\n",
    "def reverse3(num1):\n",
    "    rev=0\n",
    "    while num1>0:\n",
    "        r=num1%10\n",
    "        rev=rev*10+r\n",
    "        num1=num1//10\n",
    "    return rev\n",
    "\n",
    "def twisted_check(num2):\n",
    "    if num2>1:\n",
    "        for i in range(2,num2+1):\n",
    "            if (check_prime(i)==True) and (check_prime(reverse3(i))==True):\n",
    "                print(i,end=\" \")\n",
    "\n",
    "print(twisted_check(give_input))"
   ]
  },
  {
   "cell_type": "code",
   "execution_count": 31,
   "metadata": {},
   "outputs": [
    {
     "name": "stdout",
     "output_type": "stream",
     "text": [
      "enter X : 100\n",
      "enter N : 10\n"
     ]
    },
    {
     "data": {
      "text/plain": [
       "154.3080632716049"
      ]
     },
     "execution_count": 31,
     "metadata": {},
     "output_type": "execute_result"
    }
   ],
   "source": [
    "#printing a series of sum with a value 'X' and \"N\"\n",
    "#x+(x/2!)+(x/4!)+(x/6!)+......+(x/n!)\n",
    "\n",
    "def factorial(n):\n",
    "    if n==0:\n",
    "        return 1\n",
    "    elif n==1:\n",
    "        return 1\n",
    "    else:\n",
    "        return n*factorial(n-1)\n",
    "def series(x,n):\n",
    "    if n==0:\n",
    "        return x\n",
    "    elif n==2:\n",
    "        return (x+(x/2))\n",
    "    else:\n",
    "        return (x/factorial(n))+series(x,n-2)\n",
    "\n",
    "x=int(input(\"enter X : \"))\n",
    "\n",
    "n=int(input(\"enter N : \"))\n",
    "series(x,n)"
   ]
  },
  {
   "cell_type": "code",
   "execution_count": null,
   "metadata": {},
   "outputs": [],
   "source": []
  }
 ],
 "metadata": {
  "kernelspec": {
   "display_name": "Python 3",
   "language": "python",
   "name": "python3"
  },
  "language_info": {
   "codemirror_mode": {
    "name": "ipython",
    "version": 3
   },
   "file_extension": ".py",
   "mimetype": "text/x-python",
   "name": "python",
   "nbconvert_exporter": "python",
   "pygments_lexer": "ipython3",
   "version": "3.7.1"
  }
 },
 "nbformat": 4,
 "nbformat_minor": 2
}
