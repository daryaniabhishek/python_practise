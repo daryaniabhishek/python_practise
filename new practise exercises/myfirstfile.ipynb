{
 "cells": [
  {
   "cell_type": "code",
   "execution_count": 1,
   "metadata": {},
   "outputs": [
    {
     "name": "stdout",
     "output_type": "stream",
     "text": [
      "enter two numbers\n",
      "1 3\n",
      "x=1\n",
      "y=3\n",
      "the sum of 1 and 3 is 4\n"
     ]
    }
   ],
   "source": [
    "#Python program to add two numbers\n",
    "\n",
    "[x,y]=[int(x) for x in input(\"enter two numbers\\n\").split()]\n",
    "add=x+y\n",
    "print(f\"x={x}\\ny={y}\\nthe sum of {x} and {y} is {add}\")"
   ]
  },
  {
   "cell_type": "code",
   "execution_count": 2,
   "metadata": {},
   "outputs": [
    {
     "name": "stdout",
     "output_type": "stream",
     "text": [
      "enter the numbers you want to add\n",
      "1 5 6 9 10\n",
      "The number are  [1, 5, 6, 9, 10]\n",
      "The sum of the number is 31\n"
     ]
    }
   ],
   "source": [
    "#Python program to add all numbers of list\n",
    "\n",
    "numbers= list(map(int,input(\"enter the numbers you want to add\\n\").split()))\n",
    "print(\"The number are \",numbers)\n",
    "print(\"The sum of the number is\",sum(numbers))"
   ]
  },
  {
   "cell_type": "code",
   "execution_count": 3,
   "metadata": {},
   "outputs": [
    {
     "name": "stdout",
     "output_type": "stream",
     "text": [
      "enter the numbers you want to check the average of\n",
      "1 2 3 \n",
      "The numbers are [1.0, 2.0, 3.0]\n",
      "The sum of the numbers is 6.0\n",
      "The average of the numbers is 2.0\n"
     ]
    }
   ],
   "source": [
    "#Python program to get the average of all numbers of list\n",
    "sample_numbers= list(map(float,input(\"enter the numbers you want to check the average of\\n\").split()))\n",
    "averagenumber=(sum(sample_numbers)/len(sample_numbers))\n",
    "print(\"The numbers are {}\\nThe sum of the numbers is {}\\nThe average of the numbers is {}\".format(sample_numbers,sum(sample_numbers),averagenumber))"
   ]
  },
  {
   "cell_type": "code",
   "execution_count": 4,
   "metadata": {},
   "outputs": [
    {
     "data": {
      "text/plain": [
       "[1, 5, 6, 9, 10]"
      ]
     },
     "execution_count": 4,
     "metadata": {},
     "output_type": "execute_result"
    }
   ],
   "source": [
    "globals()[\"numbers\"]"
   ]
  },
  {
   "cell_type": "code",
   "execution_count": 5,
   "metadata": {},
   "outputs": [
    {
     "data": {
      "text/plain": [
       "[1.0, 2.0, 3.0]"
      ]
     },
     "execution_count": 5,
     "metadata": {},
     "output_type": "execute_result"
    }
   ],
   "source": [
    "locals()[\"sample_numbers\"]"
   ]
  },
  {
   "cell_type": "code",
   "execution_count": 6,
   "metadata": {},
   "outputs": [
    {
     "name": "stdout",
     "output_type": "stream",
     "text": [
      "Abhishek\n",
      "8\n"
     ]
    }
   ],
   "source": [
    "a=\"abhishek\"\n",
    "print(a.capitalize())\n",
    "print(len(str(a)))"
   ]
  },
  {
   "cell_type": "code",
   "execution_count": 7,
   "metadata": {},
   "outputs": [
    {
     "name": "stdout",
     "output_type": "stream",
     "text": [
      "Enter a number to find the factorial of\n",
      "20\n",
      "The factorial of 20 is 2432902008176640000\n"
     ]
    }
   ],
   "source": [
    "# Python 3 program to find factorial of given number \n",
    "\n",
    "def find_factorial(num):\n",
    "    return 1 if (num==0 or num==1) else num*find_factorial(num-1)\n",
    "    \n",
    "ask_number=int(input(\"Enter a number to find the factorial of\\n\"))\n",
    "print(\"The factorial of {} is {}\".format(ask_number,find_factorial(ask_number)))"
   ]
  },
  {
   "cell_type": "code",
   "execution_count": 8,
   "metadata": {},
   "outputs": [
    {
     "name": "stdout",
     "output_type": "stream",
     "text": [
      "Enter a number to find the factorial Trailing zeroes of\n",
      "20\n"
     ]
    },
    {
     "data": {
      "text/plain": [
       "'The number of zeroes in the end of the factorial of the given number is 4'"
      ]
     },
     "execution_count": 8,
     "metadata": {},
     "output_type": "execute_result"
    }
   ],
   "source": [
    "# Python 3 program to find trailing zeroes in a factorial of given number using for loop\n",
    "def find_trailing_zeroes(fact_num):\n",
    "    count=0\n",
    "    if fact_num>1:\n",
    "        factorial_value=fact_num*find_factorial(fact_num-1)\n",
    "        factorial_value=str(factorial_value)\n",
    "        \n",
    "        for i in range(len(factorial_value)-1,0,-1):\n",
    "        \n",
    "            if factorial_value[i]==\"0\":\n",
    "                count+=1\n",
    "            else:\n",
    "                break\n",
    "    return \"The number of zeroes in the end of the factorial of the given number is \" +str(count)\n",
    "ask_a_number=int(input(\"Enter a number to find the factorial Trailing zeroes of\\n\"))\n",
    "find_trailing_zeroes(ask_a_number)"
   ]
  },
  {
   "cell_type": "code",
   "execution_count": 9,
   "metadata": {},
   "outputs": [
    {
     "name": "stdout",
     "output_type": "stream",
     "text": [
      "Enter a number to find the factorial Trailing zeroes of\n",
      "20\n",
      "The number of zeroes in the factorial of 20 are 4\n"
     ]
    }
   ],
   "source": [
    "# Python 3 program to find trailing zeroes in a factorial of given number using a while loop\n",
    "def findTrailingZeroes(num):\n",
    "    count1=0\n",
    "    i=5\n",
    "    while(num/i>=1):\n",
    "        count1+=(num/i)\n",
    "        i*=5\n",
    "    return count1\n",
    "\n",
    "ask_another_number=int(input(\"Enter a number to find the factorial Trailing zeroes of\\n\"))\n",
    "print(\"The number of zeroes in the factorial of %d are %d\"%(ask_another_number,findTrailingZeroes(ask_another_number)))"
   ]
  },
  {
   "cell_type": "code",
   "execution_count": null,
   "metadata": {},
   "outputs": [],
   "source": []
  }
 ],
 "metadata": {
  "kernelspec": {
   "display_name": "Python 3",
   "language": "python",
   "name": "python3"
  },
  "language_info": {
   "codemirror_mode": {
    "name": "ipython",
    "version": 3
   },
   "file_extension": ".py",
   "mimetype": "text/x-python",
   "name": "python",
   "nbconvert_exporter": "python",
   "pygments_lexer": "ipython3",
   "version": "3.7.1"
  }
 },
 "nbformat": 4,
 "nbformat_minor": 2
}
