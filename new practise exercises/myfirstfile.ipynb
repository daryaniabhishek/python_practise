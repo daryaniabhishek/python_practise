{
 "cells": [
  {
   "cell_type": "code",
   "execution_count": 1,
   "metadata": {},
   "outputs": [
    {
     "name": "stdout",
     "output_type": "stream",
     "text": [
      "enter two numbers\n",
      "1 3\n",
      "x=1\n",
      "y=3\n",
      "the sum of 1 and 3 is 4\n"
     ]
    }
   ],
   "source": [
    "#Python program to add two numbers\n",
    "\n",
    "[x,y]=[int(x) for x in input(\"enter two numbers\\n\").split()]\n",
    "add=x+y\n",
    "print(f\"x={x}\\ny={y}\\nthe sum of {x} and {y} is {add}\")"
   ]
  },
  {
   "cell_type": "code",
   "execution_count": 2,
   "metadata": {},
   "outputs": [
    {
     "name": "stdout",
     "output_type": "stream",
     "text": [
      "enter the numbers you want to add\n",
      "1 5 6 9 10\n",
      "The number are  [1, 5, 6, 9, 10]\n",
      "The sum of the number is 31\n"
     ]
    }
   ],
   "source": [
    "#Python program to add all numbers of list\n",
    "\n",
    "numbers= list(map(int,input(\"enter the numbers you want to add\\n\").split()))\n",
    "print(\"The number are \",numbers)\n",
    "print(\"The sum of the number is\",sum(numbers))"
   ]
  },
  {
   "cell_type": "code",
   "execution_count": 3,
   "metadata": {},
   "outputs": [
    {
     "name": "stdout",
     "output_type": "stream",
     "text": [
      "enter the numbers you want to check the average of\n",
      "1 2 3 \n",
      "The numbers are [1.0, 2.0, 3.0]\n",
      "The sum of the numbers is 6.0\n",
      "The average of the numbers is 2.0\n"
     ]
    }
   ],
   "source": [
    "#Python program to get the average of all numbers of list\n",
    "sample_numbers= list(map(float,input(\"enter the numbers you want to check the average of\\n\").split()))\n",
    "averagenumber=(sum(sample_numbers)/len(sample_numbers))\n",
    "print(\"The numbers are {}\\nThe sum of the numbers is {}\\nThe average of the numbers is {}\".format(sample_numbers,sum(sample_numbers),averagenumber))"
   ]
  },
  {
   "cell_type": "code",
   "execution_count": 4,
   "metadata": {},
   "outputs": [
    {
     "data": {
      "text/plain": [
       "[1, 5, 6, 9, 10]"
      ]
     },
     "execution_count": 4,
     "metadata": {},
     "output_type": "execute_result"
    }
   ],
   "source": [
    "globals()[\"numbers\"]"
   ]
  },
  {
   "cell_type": "code",
   "execution_count": 5,
   "metadata": {},
   "outputs": [
    {
     "data": {
      "text/plain": [
       "[1.0, 2.0, 3.0]"
      ]
     },
     "execution_count": 5,
     "metadata": {},
     "output_type": "execute_result"
    }
   ],
   "source": [
    "locals()[\"sample_numbers\"]"
   ]
  },
  {
   "cell_type": "code",
   "execution_count": 6,
   "metadata": {},
   "outputs": [
    {
     "name": "stdout",
     "output_type": "stream",
     "text": [
      "Abhishek\n",
      "8\n"
     ]
    }
   ],
   "source": [
    "a=\"abhishek\"\n",
    "print(a.capitalize())\n",
    "print(len(str(a)))"
   ]
  },
  {
   "cell_type": "code",
   "execution_count": 7,
   "metadata": {},
   "outputs": [
    {
     "name": "stdout",
     "output_type": "stream",
     "text": [
      "Enter a number to find the factorial of\n",
      "20\n",
      "The factorial of 20 is 2432902008176640000\n"
     ]
    }
   ],
   "source": [
    "# Python 3 program to find factorial of given number \n",
    "\n",
    "def find_factorial(num):\n",
    "    return 1 if (num==0 or num==1) else num*find_factorial(num-1)\n",
    "    \n",
    "ask_number=int(input(\"Enter a number to find the factorial of\\n\"))\n",
    "print(\"The factorial of {} is {}\".format(ask_number,find_factorial(ask_number)))"
   ]
  },
  {
   "cell_type": "code",
   "execution_count": 8,
   "metadata": {},
   "outputs": [
    {
     "name": "stdout",
     "output_type": "stream",
     "text": [
      "Enter a number to find the factorial Trailing zeroes of\n",
      "20\n"
     ]
    },
    {
     "data": {
      "text/plain": [
       "'The number of zeroes in the end of the factorial of the given number is 4'"
      ]
     },
     "execution_count": 8,
     "metadata": {},
     "output_type": "execute_result"
    }
   ],
   "source": [
    "# Python 3 program to find trailing zeroes in a factorial of given number using for loop\n",
    "def find_trailing_zeroes(fact_num):\n",
    "    count=0\n",
    "    if fact_num>1:\n",
    "        factorial_value=fact_num*find_factorial(fact_num-1)\n",
    "        factorial_value=str(factorial_value)\n",
    "        \n",
    "        for i in range(len(factorial_value)-1,0,-1):\n",
    "        \n",
    "            if factorial_value[i]==\"0\":\n",
    "                count+=1\n",
    "            else:\n",
    "                break\n",
    "    return \"The number of zeroes in the end of the factorial of the given number is \" +str(count)\n",
    "ask_a_number=int(input(\"Enter a number to find the factorial Trailing zeroes of\\n\"))\n",
    "find_trailing_zeroes(ask_a_number)"
   ]
  },
  {
   "cell_type": "code",
   "execution_count": 9,
   "metadata": {},
   "outputs": [
    {
     "name": "stdout",
     "output_type": "stream",
     "text": [
      "Enter a number to find the factorial Trailing zeroes of\n",
      "20\n",
      "The number of zeroes in the factorial of 20 are 4\n"
     ]
    }
   ],
   "source": [
    "# Python 3 program to find trailing zeroes in a factorial of given number using a while loop\n",
    "def findTrailingZeroes(num):\n",
    "    count1=0\n",
    "    i=5\n",
    "    while(num/i>=1):\n",
    "        count1+=(num/i)\n",
    "        i*=5\n",
    "    return count1\n",
    "\n",
    "ask_another_number=int(input(\"Enter a number to find the factorial Trailing zeroes of\\n\"))\n",
    "print(\"The number of zeroes in the factorial of %d are %d\"%(ask_another_number,findTrailingZeroes(ask_another_number)))"
   ]
  },
  {
   "cell_type": "code",
   "execution_count": 3,
   "metadata": {},
   "outputs": [
    {
     "name": "stdout",
     "output_type": "stream",
     "text": [
      "enter the Principal,Rate, and Time100 5 2\n",
      "The SI for the given values below is:\n",
      "Principal:100.0\n",
      "Rate of Interest:5.0\n",
      "Time:2.0\n",
      "Simple Interest:10.0\n",
      "The CI for the given values below is:\n",
      "Principal:100.0\n",
      "Rate of Interest:5.0\n",
      "Time:2.0\n",
      "Compound Interest:10.25\n"
     ]
    }
   ],
   "source": [
    "#python program for SI and CI for given values\n",
    "def SI_CI(p,r,t):\n",
    "    SI=p*r*t/100\n",
    "    print(\"The SI for the given values below is:\\nPrincipal:{}\\nRate of Interest:{}\\nTime:{}\\nSimple Interest:{}\".format(p,r,t,SI))\n",
    "    CI=p*((1+(r/100))**t)-p\n",
    "    print(\"The CI for the given values below is:\\nPrincipal:{}\\nRate of Interest:{}\\nTime:{}\\nCompound Interest:{}\".format(p,r,t,CI))\n",
    "    \n",
    "[p,r,t]=[float(x) for x in input(\"enter the Principal,Rate, and Time\").split()]\n",
    "SI_CI(p,r,t)"
   ]
  },
  {
   "cell_type": "code",
   "execution_count": 29,
   "metadata": {},
   "outputs": [
    {
     "name": "stdout",
     "output_type": "stream",
     "text": [
      "enter a number to check if it is a armstrong number153\n"
     ]
    },
    {
     "data": {
      "text/plain": [
       "True"
      ]
     },
     "execution_count": 29,
     "metadata": {},
     "output_type": "execute_result"
    }
   ],
   "source": [
    "from math import pow\n",
    "def find_length(arm_sample_num):\n",
    "    length=len(str(arm_sample_num))\n",
    "    return length\n",
    "    \n",
    "def check_arm_num(arm_sample_num):\n",
    "    length=find_length(arm_sample_num)\n",
    "    sum=0\n",
    "    for i in str(arm_sample_num):\n",
    "        i=int(i)\n",
    "        sum+=pow(i,length)\n",
    "    return sum==arm_sample_num\n",
    "arm_sample_num=int(input(\"enter a number to check if it is a armstrong number\"))\n",
    "check_arm_num(arm_sample_num)"
   ]
  },
  {
   "cell_type": "code",
   "execution_count": 1,
   "metadata": {},
   "outputs": [
    {
     "name": "stdout",
     "output_type": "stream",
     "text": [
      "1  :  square\n",
      "2  :  rectangle\n",
      "3  :  circle\n",
      "4  :  Triangle\n",
      "5  :  Sphere\n",
      "6  :  Parallelogram\n",
      "7  :  Ellipse\n",
      "Please select the number for the respective curve you want to calculate the area of?\n",
      "1\n"
     ]
    }
   ],
   "source": [
    "#Python Program for Program to find area of a circle\n",
    "def area_calc(curve):\n",
    "    pass\n",
    "def ask_parameters(user_value):\n",
    "    A=True\n",
    "    while A:\n",
    "        if user_value<1 or user_value>7 :\n",
    "            A=True\n",
    "        elif user_value==1:\n",
    "            pass\n",
    "        elif user_value==2:\n",
    "            pass\n",
    "        elif user_value==3:\n",
    "            pass\n",
    "        \n",
    "        elif user_value==4:\n",
    "            pass\n",
    "        elif user_value==5:\n",
    "            pass\n",
    "        elif user_value==6:\n",
    "            pass\n",
    "        \n",
    "        elif user_value==7:\n",
    "            pass\n",
    "        else:\n",
    "            pass\n",
    "                \n",
    "def ask_user_choice():\n",
    "    input_curve_selection=int(input(\"Please select the number for the respective curve you want to calculate the area of?\\n\"))\n",
    "    return input_curve_selection\n",
    "\n",
    "curve_selection={1:\"square\",2:\"rectangle\",3:\"circle\",4:\"Triangle\",5:\"Sphere\",6:\"Parallelogram\",7:\"Ellipse\"}\n",
    "\n",
    "for i,j in curve_selection.items():\n",
    "    print(i,\" : \",j)\n",
    "x=ask_user_choice()\n",
    "ask_parameters(x)"
   ]
  },
  {
   "cell_type": "code",
   "execution_count": 50,
   "metadata": {},
   "outputs": [
    {
     "name": "stdout",
     "output_type": "stream",
     "text": [
      "enter the number until which the prime numbers should print15\n",
      "2\n",
      "3\n",
      "5\n",
      "7\n",
      "11\n",
      "13\n"
     ]
    }
   ],
   "source": [
    "#prime numbers in an interval\n",
    "def Prime_num(input_user):\n",
    "    for i in range(2,input_user+1):\n",
    "        for x in range(2,i):\n",
    "            if i%x==0:\n",
    "                break\n",
    "        else:\n",
    "            print(i)\n",
    "\n",
    "prime_check=int(input(\"enter the number until which the prime numbers should print\"))\n",
    "Prime_num(prime_check)"
   ]
  },
  {
   "cell_type": "code",
   "execution_count": 51,
   "metadata": {},
   "outputs": [
    {
     "data": {
      "text/plain": [
       "False"
      ]
     },
     "execution_count": 51,
     "metadata": {},
     "output_type": "execute_result"
    }
   ],
   "source": [
    "def check_prime(new_num):\n",
    "    if new_num==1:\n",
    "        return False\n",
    "    for i in range(2,new_num):\n",
    "        if new_num%i==0:\n",
    "            return False\n",
    "    else:\n",
    "        return True\n",
    "check_prime(prime_check)"
   ]
  },
  {
   "cell_type": "code",
   "execution_count": 62,
   "metadata": {},
   "outputs": [
    {
     "data": {
      "text/plain": [
       "([0, 1, 1, 2, 3, 5, 8, 13, 21, 34, 55, 89, 144, 233, 377], 377)"
      ]
     },
     "execution_count": 62,
     "metadata": {},
     "output_type": "execute_result"
    }
   ],
   "source": [
    "#fibonacci series\n",
    "def fibonacci(nth_term):\n",
    "    list_of_fibo_terms=[0,1]\n",
    "    if nth_term==1:\n",
    "        return list_of_fibo_terms[0]\n",
    "    elif nth_term==2:\n",
    "        return list_of_fibo_terms\n",
    "    else:\n",
    "        for i in range(3,nth_term+1):\n",
    "            newterm=list_of_fibo_terms[-1]+list_of_fibo_terms[-2]\n",
    "            list_of_fibo_terms.append(newterm)\n",
    "    return list_of_fibo_terms,newterm\n",
    "fibonacci(prime_check)"
   ]
  },
  {
   "cell_type": "code",
   "execution_count": 56,
   "metadata": {},
   "outputs": [
    {
     "data": {
      "text/plain": [
       "377"
      ]
     },
     "execution_count": 56,
     "metadata": {},
     "output_type": "execute_result"
    }
   ],
   "source": [
    "#fibonacci series: finding the nth term\n",
    "def fibonacci1(pth_term):\n",
    "    \n",
    "    if pth_term==1:\n",
    "        return 0\n",
    "    elif pth_term==2:\n",
    "        return 1\n",
    "    else:\n",
    "        the_term=fibonacci1(pth_term-1)+fibonacci1(pth_term-2)\n",
    "    return the_term\n",
    "fibonacci1(prime_check)"
   ]
  },
  {
   "cell_type": "code",
   "execution_count": null,
   "metadata": {},
   "outputs": [],
   "source": []
  }
 ],
 "metadata": {
  "kernelspec": {
   "display_name": "Python 3",
   "language": "python",
   "name": "python3"
  },
  "language_info": {
   "codemirror_mode": {
    "name": "ipython",
    "version": 3
   },
   "file_extension": ".py",
   "mimetype": "text/x-python",
   "name": "python",
   "nbconvert_exporter": "python",
   "pygments_lexer": "ipython3",
   "version": "3.7.1"
  }
 },
 "nbformat": 4,
 "nbformat_minor": 2
}
